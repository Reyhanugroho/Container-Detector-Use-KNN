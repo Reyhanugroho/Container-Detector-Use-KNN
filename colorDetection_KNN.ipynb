{
 "cells": [
  {
   "cell_type": "code",
   "execution_count": 2,
   "metadata": {},
   "outputs": [],
   "source": [
    "import os\n",
    "import json\n",
    "import math\n",
    "import numpy as np\n",
    "import pandas as pd"
   ]
  },
  {
   "cell_type": "code",
   "execution_count": 3,
   "metadata": {},
   "outputs": [],
   "source": [
    "# Folder yang berisi gambar dan file JSON yang berisi label\n",
    "image_train_folder = 'D:/Serba Serbi Kuliah/MATERI KULIAH SMT 5/AI/UAS_AI/data/containernumbers_container-serials/train'\n",
    "image_test_folder = 'D:/Serba Serbi Kuliah/MATERI KULIAH SMT 5/AI/UAS_AI/data/containernumbers_container-serials/valid' \n",
    "json_train_file = 'D:/Serba Serbi Kuliah/MATERI KULIAH SMT 5/AI/UAS_AI/data/containernumbers_container-serials/train/annotations_with_color_labels1.json'  \n",
    "json_test_file = 'D:/Serba Serbi Kuliah/MATERI KULIAH SMT 5/AI/UAS_AI/data/containernumbers_container-serials/valid/annotations_with_color_labels2.json'"
   ]
  },
  {
   "cell_type": "code",
   "execution_count": 4,
   "metadata": {},
   "outputs": [],
   "source": [
    "# Fungsi untuk memuat data gambar dan label dari file JSON\n",
    "def load_data_from_json_and_images(image_folder, json_file):\n",
    "    images = []\n",
    "    labels = []\n",
    "    \n",
    "    # Membaca file JSON yang berisi anotasi\n",
    "    with open(json_file) as f:\n",
    "        data = json.load(f)\n",
    "\n",
    "    # Membaca gambar dan label dari JSON\n",
    "    for annotation in data['annotations']:\n",
    "        image_filename = data['images'][annotation['image_id']]['file_name']  # Ambil nama file gambar berdasarkan image_id\n",
    "        label = annotation['color_label']  # Label yang berhubungan dengan gambar\n",
    "        \n",
    "        # Memuat gambar dari folder\n",
    "        image_path = os.path.join(image_folder, image_filename)\n",
    "        image = io.imread(image_path)\n",
    "        \n",
    "        # Ubah ukuran gambar jika perlu (agar ukuran konsisten)\n",
    "        image_resized = resize(image, (64, 64))  # Mengubah ukuran gambar menjadi 64x64\n",
    "        \n",
    "        # Flatten gambar menjadi array 1D\n",
    "        image_flattened = image_resized.flatten()\n",
    "        \n",
    "        images.append(image_flattened)\n",
    "        labels.append(label)\n",
    "    \n",
    "    return np.array(images), labels"
   ]
  },
  {
   "cell_type": "code",
   "execution_count": null,
   "metadata": {},
   "outputs": [],
   "source": [
    "def euclidean_distance(p1, p2):\n",
    "    \"\"\"\n",
    "    Menghitung Euclidean Distance antara dua titik RGB.\n",
    "    p1, p2: Daftar atau tuple dengan nilai RGB, misalnya [R, G, B].\n",
    "    \"\"\"\n",
    "    return math.sqrt(sum((p1[i] - p2[i])**2 for i in range(len(p1))))\n"
   ]
  }
 ],
 "metadata": {
  "kernelspec": {
   "display_name": "base",
   "language": "python",
   "name": "python3"
  },
  "language_info": {
   "codemirror_mode": {
    "name": "ipython",
    "version": 3
   },
   "file_extension": ".py",
   "mimetype": "text/x-python",
   "name": "python",
   "nbconvert_exporter": "python",
   "pygments_lexer": "ipython3",
   "version": "3.12.7"
  }
 },
 "nbformat": 4,
 "nbformat_minor": 2
}
